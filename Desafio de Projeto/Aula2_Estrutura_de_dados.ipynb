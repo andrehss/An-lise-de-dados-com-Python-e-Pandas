{
  "nbformat": 4,
  "nbformat_minor": 0,
  "metadata": {
    "colab": {
      "name": "Aula2_Estrutura_de_dados.ipynb",
      "provenance": [],
      "collapsed_sections": []
    },
    "kernelspec": {
      "name": "python3",
      "display_name": "Python 3"
    },
    "language_info": {
      "name": "python"
    }
  },
  "cells": [
    {
      "cell_type": "markdown",
      "metadata": {
        "id": "oio-uzZe7U8k"
      },
      "source": [
        "### **Listas**"
      ]
    },
    {
      "cell_type": "code",
      "metadata": {
        "colab": {
          "base_uri": "https://localhost:8080/"
        },
        "id": "-qqlauE67Bjq",
        "outputId": "29f3ce8e-dd9c-46ab-d118-55b377d4d0cf"
      },
      "source": [
        "# Criando uma lista chamada animais\n",
        "animais = [1,2,3]\n",
        "animais"
      ],
      "execution_count": 1,
      "outputs": [
        {
          "output_type": "execute_result",
          "data": {
            "text/plain": [
              "[1, 2, 3]"
            ]
          },
          "metadata": {},
          "execution_count": 1
        }
      ]
    },
    {
      "cell_type": "code",
      "metadata": {
        "colab": {
          "base_uri": "https://localhost:8080/"
        },
        "id": "nUYYR1Fl7-fU",
        "outputId": "f61c199b-2759-4a65-9a4b-ca179d953317"
      },
      "source": [
        "animais = ['cachorro', 'gato', 12345,6.5]\n",
        "animais"
      ],
      "execution_count": 2,
      "outputs": [
        {
          "output_type": "execute_result",
          "data": {
            "text/plain": [
              "['cachorro', 'gato', 12345, 6.5]"
            ]
          },
          "metadata": {},
          "execution_count": 2
        }
      ]
    },
    {
      "cell_type": "code",
      "metadata": {
        "colab": {
          "base_uri": "https://localhost:8080/",
          "height": 35
        },
        "id": "an3OUONY8Lu6",
        "outputId": "c7305810-499a-42be-e686-20bc63d431d4"
      },
      "source": [
        "# Imprimindo o primeiro elemento da lista\n",
        "animais[0]"
      ],
      "execution_count": 3,
      "outputs": [
        {
          "output_type": "execute_result",
          "data": {
            "application/vnd.google.colaboratory.intrinsic+json": {
              "type": "string"
            },
            "text/plain": [
              "'cachorro'"
            ]
          },
          "metadata": {},
          "execution_count": 3
        }
      ]
    },
    {
      "cell_type": "code",
      "metadata": {
        "colab": {
          "base_uri": "https://localhost:8080/"
        },
        "id": "cWmmGHD88a16",
        "outputId": "c55fbac9-469f-433f-ab20-2a9c12284198"
      },
      "source": [
        "# Imprimindo o 4 elemento da lista\n",
        "animais[3]"
      ],
      "execution_count": 5,
      "outputs": [
        {
          "output_type": "execute_result",
          "data": {
            "text/plain": [
              "6.5"
            ]
          },
          "metadata": {},
          "execution_count": 5
        }
      ]
    },
    {
      "cell_type": "code",
      "metadata": {
        "id": "MfKYK6Wl8fsJ"
      },
      "source": [
        "# Substituindo o primeiro elemento da lista\n",
        "animais[0] = 'Urso'"
      ],
      "execution_count": 6,
      "outputs": []
    },
    {
      "cell_type": "code",
      "metadata": {
        "colab": {
          "base_uri": "https://localhost:8080/"
        },
        "id": "v2elKbWG8z45",
        "outputId": "518fc107-2000-49e6-ba5f-83fe0fa574cd"
      },
      "source": [
        "animais"
      ],
      "execution_count": 7,
      "outputs": [
        {
          "output_type": "execute_result",
          "data": {
            "text/plain": [
              "['Urso', 'gato', 12345, 6.5]"
            ]
          },
          "metadata": {},
          "execution_count": 7
        }
      ]
    },
    {
      "cell_type": "code",
      "metadata": {
        "id": "qKCwbtFn83aX"
      },
      "source": [
        "# Removendo gato da lista\n",
        "animais.remove('gato')"
      ],
      "execution_count": 8,
      "outputs": []
    },
    {
      "cell_type": "code",
      "metadata": {
        "colab": {
          "base_uri": "https://localhost:8080/"
        },
        "id": "2jfTfAEh9GEY",
        "outputId": "c449361b-6d27-4872-8f5d-ce0be07231c4"
      },
      "source": [
        "animais"
      ],
      "execution_count": 9,
      "outputs": [
        {
          "output_type": "execute_result",
          "data": {
            "text/plain": [
              "['Urso', 12345, 6.5]"
            ]
          },
          "metadata": {},
          "execution_count": 9
        }
      ]
    },
    {
      "cell_type": "code",
      "metadata": {
        "colab": {
          "base_uri": "https://localhost:8080/"
        },
        "id": "itXkWAh89G8A",
        "outputId": "de907319-ce9b-45f8-97f9-5336cc18aa5c"
      },
      "source": [
        "len(animais)"
      ],
      "execution_count": 10,
      "outputs": [
        {
          "output_type": "execute_result",
          "data": {
            "text/plain": [
              "3"
            ]
          },
          "metadata": {},
          "execution_count": 10
        }
      ]
    },
    {
      "cell_type": "code",
      "metadata": {
        "colab": {
          "base_uri": "https://localhost:8080/"
        },
        "id": "0qHbACO99T4n",
        "outputId": "ff2a0426-e4ff-4569-da0f-f3202b5df8dc"
      },
      "source": [
        "'gato' in animais"
      ],
      "execution_count": 11,
      "outputs": [
        {
          "output_type": "execute_result",
          "data": {
            "text/plain": [
              "False"
            ]
          },
          "metadata": {},
          "execution_count": 11
        }
      ]
    },
    {
      "cell_type": "code",
      "metadata": {
        "id": "_kGeyv8M9WeH"
      },
      "source": [
        "lista = [500,30,300,80,10]"
      ],
      "execution_count": 12,
      "outputs": []
    },
    {
      "cell_type": "code",
      "metadata": {
        "colab": {
          "base_uri": "https://localhost:8080/"
        },
        "id": "N7c8XgCe9dVG",
        "outputId": "e5f50df1-b6ab-4669-c00d-3e20837f232e"
      },
      "source": [
        "max(lista)"
      ],
      "execution_count": 13,
      "outputs": [
        {
          "output_type": "execute_result",
          "data": {
            "text/plain": [
              "500"
            ]
          },
          "metadata": {},
          "execution_count": 13
        }
      ]
    },
    {
      "cell_type": "code",
      "metadata": {
        "colab": {
          "base_uri": "https://localhost:8080/"
        },
        "id": "8PDKF8289gPH",
        "outputId": "fb6f3bfb-8655-4deb-d7df-4f8e06a37859"
      },
      "source": [
        "min(lista)"
      ],
      "execution_count": 14,
      "outputs": [
        {
          "output_type": "execute_result",
          "data": {
            "text/plain": [
              "10"
            ]
          },
          "metadata": {},
          "execution_count": 14
        }
      ]
    },
    {
      "cell_type": "code",
      "metadata": {
        "colab": {
          "base_uri": "https://localhost:8080/"
        },
        "id": "EjvlergM9ngH",
        "outputId": "24e6a680-d850-47a6-a952-f77b41ecf9d2"
      },
      "source": [
        "sum(lista)"
      ],
      "execution_count": 16,
      "outputs": [
        {
          "output_type": "execute_result",
          "data": {
            "text/plain": [
              "920"
            ]
          },
          "metadata": {},
          "execution_count": 16
        }
      ]
    },
    {
      "cell_type": "code",
      "metadata": {
        "id": "JSDPDURv9pQ2"
      },
      "source": [
        "# Adicionando elemento a Lista - Aceita adicionar só um elemento por vez\n",
        "animais.append('elefante')"
      ],
      "execution_count": 17,
      "outputs": []
    },
    {
      "cell_type": "code",
      "metadata": {
        "colab": {
          "base_uri": "https://localhost:8080/"
        },
        "id": "SFQ3Djg791d1",
        "outputId": "0e2bc064-2b86-466f-e820-6600fe698b1e"
      },
      "source": [
        "animais"
      ],
      "execution_count": 18,
      "outputs": [
        {
          "output_type": "execute_result",
          "data": {
            "text/plain": [
              "['Urso', 12345, 6.5, 'elefante']"
            ]
          },
          "metadata": {},
          "execution_count": 18
        }
      ]
    },
    {
      "cell_type": "code",
      "metadata": {
        "id": "BvYPJADm92Yg"
      },
      "source": [
        "# Adicionando elemento a Lista - Aceita adicionar mais de um elemento por vez\n",
        "animais.extend(['coelho', 'morcego', 50])"
      ],
      "execution_count": 20,
      "outputs": []
    },
    {
      "cell_type": "code",
      "metadata": {
        "colab": {
          "base_uri": "https://localhost:8080/"
        },
        "id": "WIe6tFaj-eCE",
        "outputId": "6c7dd188-e69c-4236-c78a-c3873fb7ffa6"
      },
      "source": [
        "animais"
      ],
      "execution_count": 21,
      "outputs": [
        {
          "output_type": "execute_result",
          "data": {
            "text/plain": [
              "['Urso', 12345, 6.5, 'elefante', 'coelho', 'morcego', 50]"
            ]
          },
          "metadata": {},
          "execution_count": 21
        }
      ]
    },
    {
      "cell_type": "code",
      "metadata": {
        "colab": {
          "base_uri": "https://localhost:8080/"
        },
        "id": "_ZP-cdCr-huk",
        "outputId": "abe6c684-873a-486a-faf6-b03d764b7f8e"
      },
      "source": [
        "animais.count('Urso')"
      ],
      "execution_count": 22,
      "outputs": [
        {
          "output_type": "execute_result",
          "data": {
            "text/plain": [
              "1"
            ]
          },
          "metadata": {},
          "execution_count": 22
        }
      ]
    },
    {
      "cell_type": "code",
      "metadata": {
        "id": "hXs5HeiV-n-U"
      },
      "source": [
        "lista.sort()"
      ],
      "execution_count": 24,
      "outputs": []
    },
    {
      "cell_type": "code",
      "metadata": {
        "colab": {
          "base_uri": "https://localhost:8080/"
        },
        "id": "Y1mNVUTk-qXj",
        "outputId": "b044c9c0-1b4b-4354-976f-ba12f2f4d8c9"
      },
      "source": [
        "lista"
      ],
      "execution_count": 25,
      "outputs": [
        {
          "output_type": "execute_result",
          "data": {
            "text/plain": [
              "[10, 30, 80, 300, 500]"
            ]
          },
          "metadata": {},
          "execution_count": 25
        }
      ]
    },
    {
      "cell_type": "markdown",
      "metadata": {
        "id": "_-wsx3X2-6b8"
      },
      "source": [
        "### **Tuplas**"
      ]
    },
    {
      "cell_type": "code",
      "metadata": {
        "id": "aIToaEZH-s8D"
      },
      "source": [
        "# As tuplas usam parenteses como sintaxe\n",
        "tp=('Banana', 'Maça', 10, 50)"
      ],
      "execution_count": 27,
      "outputs": []
    },
    {
      "cell_type": "code",
      "metadata": {
        "colab": {
          "base_uri": "https://localhost:8080/",
          "height": 35
        },
        "id": "CIbbNn85_GQs",
        "outputId": "57e1d5da-7df7-4096-a8c7-3885b7e20bb9"
      },
      "source": [
        "# Retornando o primeiro elemento\n",
        "tp[0]"
      ],
      "execution_count": 28,
      "outputs": [
        {
          "output_type": "execute_result",
          "data": {
            "application/vnd.google.colaboratory.intrinsic+json": {
              "type": "string"
            },
            "text/plain": [
              "'Banana'"
            ]
          },
          "metadata": {},
          "execution_count": 28
        }
      ]
    },
    {
      "cell_type": "code",
      "metadata": {
        "id": "8UBzNvvf_dHj"
      },
      "source": [
        "# Diferente das listas as tuplas são imutaveis, ou seja, não podemos alterar os seus elementos\n"
      ],
      "execution_count": null,
      "outputs": []
    },
    {
      "cell_type": "code",
      "metadata": {
        "colab": {
          "base_uri": "https://localhost:8080/"
        },
        "id": "NiF3Sq-I_vs1",
        "outputId": "0e9c409e-7e09-4747-f5cf-7e5d5c5cacd6"
      },
      "source": [
        "tp.count('Maça')"
      ],
      "execution_count": 29,
      "outputs": [
        {
          "output_type": "execute_result",
          "data": {
            "text/plain": [
              "1"
            ]
          },
          "metadata": {},
          "execution_count": 29
        }
      ]
    },
    {
      "cell_type": "code",
      "metadata": {
        "colab": {
          "base_uri": "https://localhost:8080/"
        },
        "id": "Zai7YJ64_y6k",
        "outputId": "f96e2d3a-b139-4961-99e0-5f6d9fc1cc38"
      },
      "source": [
        "tp[0:2]"
      ],
      "execution_count": 30,
      "outputs": [
        {
          "output_type": "execute_result",
          "data": {
            "text/plain": [
              "('Banana', 'Maça')"
            ]
          },
          "metadata": {},
          "execution_count": 30
        }
      ]
    },
    {
      "cell_type": "markdown",
      "metadata": {
        "id": "gsB32_pP_4UO"
      },
      "source": [
        "### **Dicionários**"
      ]
    },
    {
      "cell_type": "code",
      "metadata": {
        "id": "T6p4XH-3_1bp"
      },
      "source": [
        "# Para criar um dicionario utilizamos as {}\n",
        "dc = {'Maça':20, 'Banana':10, 'Laranja':15, 'Uva':5}#Dicionarios trabalham com o conceito chave e valor"
      ],
      "execution_count": 31,
      "outputs": []
    },
    {
      "cell_type": "code",
      "metadata": {
        "colab": {
          "base_uri": "https://localhost:8080/"
        },
        "id": "C0IAozAG_3BF",
        "outputId": "90fc758f-1b12-41a5-d717-346291ded253"
      },
      "source": [
        "dc"
      ],
      "execution_count": 32,
      "outputs": [
        {
          "output_type": "execute_result",
          "data": {
            "text/plain": [
              "{'Banana': 10, 'Laranja': 15, 'Maça': 20, 'Uva': 5}"
            ]
          },
          "metadata": {},
          "execution_count": 32
        }
      ]
    },
    {
      "cell_type": "code",
      "metadata": {
        "colab": {
          "base_uri": "https://localhost:8080/"
        },
        "id": "vFyaY1kOAV0A",
        "outputId": "d1bce07d-95aa-499c-86e7-e42181c97688"
      },
      "source": [
        "# Acessando o valor de um dicionario atraves da chave\n",
        "dc['Maça']"
      ],
      "execution_count": 33,
      "outputs": [
        {
          "output_type": "execute_result",
          "data": {
            "text/plain": [
              "20"
            ]
          },
          "metadata": {},
          "execution_count": 33
        }
      ]
    },
    {
      "cell_type": "code",
      "metadata": {
        "colab": {
          "base_uri": "https://localhost:8080/"
        },
        "id": "iRDV8v8kAejx",
        "outputId": "d18572e8-71d3-4a82-994b-9a6aaad9e28f"
      },
      "source": [
        "# Atualizando o valor da Maça\n",
        "dc['Maça'] = 25\n",
        "dc"
      ],
      "execution_count": 34,
      "outputs": [
        {
          "output_type": "execute_result",
          "data": {
            "text/plain": [
              "{'Banana': 10, 'Laranja': 15, 'Maça': 25, 'Uva': 5}"
            ]
          },
          "metadata": {},
          "execution_count": 34
        }
      ]
    },
    {
      "cell_type": "code",
      "metadata": {
        "colab": {
          "base_uri": "https://localhost:8080/"
        },
        "id": "A49EMupYAu_o",
        "outputId": "145ea08e-43f0-41bc-ea35-9217073fe884"
      },
      "source": [
        "# Retornando todas as chaves do dicionário\n",
        "dc.keys()"
      ],
      "execution_count": 36,
      "outputs": [
        {
          "output_type": "execute_result",
          "data": {
            "text/plain": [
              "dict_keys(['Maça', 'Banana', 'Laranja', 'Uva'])"
            ]
          },
          "metadata": {},
          "execution_count": 36
        }
      ]
    },
    {
      "cell_type": "code",
      "metadata": {
        "colab": {
          "base_uri": "https://localhost:8080/"
        },
        "id": "WHSENEW_A3mw",
        "outputId": "d1dd2534-69dd-4343-c21a-4802b71cc619"
      },
      "source": [
        "# Retornando os valores do dicionario\n",
        "dc.values()"
      ],
      "execution_count": 37,
      "outputs": [
        {
          "output_type": "execute_result",
          "data": {
            "text/plain": [
              "dict_values([25, 10, 15, 5])"
            ]
          },
          "metadata": {},
          "execution_count": 37
        }
      ]
    },
    {
      "cell_type": "code",
      "metadata": {
        "colab": {
          "base_uri": "https://localhost:8080/"
        },
        "id": "rPYHQ-TfBD4R",
        "outputId": "1fb2528a-edad-4a59-dc98-380644ecd0b1"
      },
      "source": [
        "# Verificando se já existe uma chave no dicionario e caso não exista inserir\n",
        "dc.setdefault('Limão', 22)"
      ],
      "execution_count": 38,
      "outputs": [
        {
          "output_type": "execute_result",
          "data": {
            "text/plain": [
              "22"
            ]
          },
          "metadata": {},
          "execution_count": 38
        }
      ]
    },
    {
      "cell_type": "code",
      "metadata": {
        "colab": {
          "base_uri": "https://localhost:8080/"
        },
        "id": "AmIF4wOxBSCP",
        "outputId": "5ea384b2-ff63-4f55-ff61-89010b7a4393"
      },
      "source": [
        "dc"
      ],
      "execution_count": 39,
      "outputs": [
        {
          "output_type": "execute_result",
          "data": {
            "text/plain": [
              "{'Banana': 10, 'Laranja': 15, 'Limão': 22, 'Maça': 25, 'Uva': 5}"
            ]
          },
          "metadata": {},
          "execution_count": 39
        }
      ]
    },
    {
      "cell_type": "code",
      "metadata": {
        "id": "rLxAAnSVBUS-"
      },
      "source": [
        ""
      ],
      "execution_count": null,
      "outputs": []
    }
  ]
}